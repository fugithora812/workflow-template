{
 "cells": [
  {
   "cell_type": "markdown",
   "id": "98fe5eea",
   "metadata": {},
   "source": [
    "# 研究ディレクトリ作成用ノートブック\n",
    "\n",
    "これはDMP情報に基づき、研究ディレクトリを作成するためのノートブックです。  \n",
    "システムによってパラメタライズされるため、手動での実行は非推奨です。"
   ]
  },
  {
   "cell_type": "code",
   "execution_count": null,
   "id": "a0ef5e31",
   "metadata": {
    "tags": [
     "parameters"
    ]
   },
   "outputs": [],
   "source": [
    "DMP_PATH      = \"\" # DMP_PATH is override by papermill\n",
    "RESEARCH_PATH = \"\" # RESEARCH_PATH is override by papermill\n",
    "\n",
    "# These parameters are also override by papermill\n",
    "CWD = \"\"\n",
    "SIBLING_NAME = \"\"\n",
    "DEFAULT_BRANCH = \"\"\n",
    "HTTP_HOST = \"\"\n",
    "SSH_HOST = \"\"\n",
    "\n",
    "save_path = \"\"\n",
    "save_message = \"\""
   ]
  },
  {
   "cell_type": "code",
   "execution_count": null,
   "id": "ff949b44",
   "metadata": {},
   "outputs": [],
   "source": [
    "import os\n",
    "import csv\n",
    "import json\n",
    "from collections import OrderedDict\n",
    "import pprint\n",
    "\n",
    "with open(DMP_PATH, 'r') as f:\n",
    "#     line = [row for row in csv.reader(f)]\n",
    "    jsn = json.load(f)\n",
    "\n",
    "for research in jsn['researches']:\n",
    "    os.makedirs(RESEARCH_PATH+research['title'])\n",
    "    with open(RESEARCH_PATH+research['title']+\"/README.md\", mode='w') as f:\n",
    "        f.write(\"# \"+research['title'])\n",
    "        \n",
    "#     print(jsn['researches'][0]['title'])\n",
    "#     pprint.pprint(jsn, width=40)"
   ]
  },
  {
   "cell_type": "code",
   "execution_count": null,
   "id": "30f1e301",
   "metadata": {},
   "outputs": [],
   "source": [
    "import os\n",
    "\n",
    "os.chdir(CWD)"
   ]
  },
  {
   "cell_type": "code",
   "execution_count": null,
   "id": "b5802b4e",
   "metadata": {},
   "outputs": [],
   "source": [
    "from datalad import api\n",
    "\n",
    "datalad.enable_librarymode()"
   ]
  },
  {
   "cell_type": "code",
   "execution_count": null,
   "id": "96ccd909",
   "metadata": {},
   "outputs": [],
   "source": [
    "from datalad import api\n",
    "\n",
    "api.save(path=save_path, message=save_message)"
   ]
  },
  {
   "cell_type": "code",
   "execution_count": null,
   "id": "88f6b85e",
   "metadata": {},
   "outputs": [],
   "source": [
    "%%sh\n",
    "chmod 600 /home/jovyan/.ssh/id_rsa"
   ]
  },
  {
   "cell_type": "code",
   "execution_count": null,
   "id": "e7a89af0",
   "metadata": {},
   "outputs": [],
   "source": [
    "%%sh\n",
    "mkdir ./tmp\n",
    "git remote show origin > ./tmp/remote.txt"
   ]
  },
  {
   "cell_type": "code",
   "execution_count": null,
   "id": "aebb1493",
   "metadata": {},
   "outputs": [],
   "source": [
    "from datalad import api\n",
    "\n",
    "# SSHでの接続URLを生成\n",
    "with open('./tmp/remote.txt', 'r') as f:\n",
    "    lines = [s.strip() for s in f.readlines()]\n",
    "    ssh_remote = lines[2].replace('Push  URL: '+HTTP_HOST, SSH_HOST)\n",
    "\n",
    "try:\n",
    "    api.siblings(action='add', name=SIBLING_NAME, url=ssh_remote)\n",
    "except:\n",
    "    pass\n",
    "\n",
    "api.push(to=SIBLING_NAME, result_renderer='default')"
   ]
  },
  {
   "cell_type": "code",
   "execution_count": null,
   "id": "5c505c1f",
   "metadata": {},
   "outputs": [],
   "source": [
    "%%sh\n",
    "rm -r ./tmp"
   ]
  }
 ],
 "metadata": {
  "celltoolbar": "Tags",
  "kernelspec": {
   "display_name": "Python 3",
   "language": "python",
   "name": "python3"
  },
  "language_info": {
   "codemirror_mode": {
    "name": "ipython",
    "version": 3
   },
   "file_extension": ".py",
   "mimetype": "text/x-python",
   "name": "python",
   "nbconvert_exporter": "python",
   "pygments_lexer": "ipython3",
   "version": "3.8.12"
  }
 },
 "nbformat": 4,
 "nbformat_minor": 5
}
